{
 "cells": [
  {
   "cell_type": "code",
   "execution_count": 1,
   "metadata": {},
   "outputs": [],
   "source": [
    "import sys  \n",
    "sys.path.insert(0, '../classes')"
   ]
  },
  {
   "cell_type": "code",
   "execution_count": 2,
   "metadata": {},
   "outputs": [],
   "source": [
    "import numpy as np\n",
    "import seaborn as sns\n",
    "import matplotlib.pyplot as plt\n",
    "import pandas as pd\n",
    "from scipy import stats\n",
    "import math"
   ]
  },
  {
   "cell_type": "code",
   "execution_count": 3,
   "metadata": {},
   "outputs": [
    {
     "name": "stdout",
     "output_type": "stream",
     "text": [
      "##################################\n",
      "Starting main method at 2020-03-29 17:10:45.938653\n",
      "\n",
      "\n",
      "##################################\n",
      "Finished data cleaning. Total duration was 0:00:00.002991\n",
      "\n",
      "##################################\n",
      "Finished data aggregation. Total duration was 0:00:00.004987\n",
      "\n",
      "Aggregated file read from ../output/all_projects.csv\n",
      "Dictionary loaded from ../assets/dictionary_all_projects\n",
      "Doc-term-matrix created\n",
      "##################################\n",
      "Finished modeling. Total duration was 0:00:13.048115\n",
      "\n",
      "Model loaded from ../models/dtm/200228_dtm_all_projects_20\n",
      "##################################\n",
      "Finished calculating Power BI outputs. Total duration was 0:00:13.581713\n",
      "\n",
      "Topic dif data read from ../output/topics/all_topics_detail.csv\n",
      "Length of evaluation data set for time slice lag 1: 1861440\n",
      "Finished transforming topic dif data into evaluation data sets for time slice lag 1\n",
      "Accuracy of binary predictions with time lag 1: \n",
      "0.8397992951693313\n",
      "Correlation coefficient between between topic dif values with time lag 1: \n",
      "0.7974582918867227\n",
      "\n",
      "Correlation coefficient between between topic dif values with time lag 1: \n",
      "0.1704077036063\n",
      "\n"
     ]
    }
   ],
   "source": [
    "from data_cleaning import DataCleaner\n",
    "from data_aggregating import DataAggregator\n",
    "from lda_modeling import LdaModel\n",
    "from dtm_modeling import DtmModel\n",
    "from dtm_evaluation import Evaluator\n",
    "from data_exploration import Explorer\n",
    "\n",
    "import datetime\n",
    "\n",
    "\n",
    "start_time = datetime.datetime.now()\n",
    "print(f\"##################################\\nStarting main method at {start_time}\\n\\n\")\n",
    "\n",
    "#############################################################\n",
    "# Clean data\n",
    "#############################################################\n",
    "\n",
    "# Define all files to be processed\n",
    "files = [\"fp1_projects\",\n",
    "         \"fp2_projects\",\n",
    "         \"fp3_projects\",\n",
    "         \"fp4_projects\",\n",
    "         \"fp5_projects\",\n",
    "         \"fp6_projects\",\n",
    "         \"fp7_projects\",\n",
    "         \"h2020_projects\"\n",
    "         ]\n",
    "\n",
    "cleaner_params = {\n",
    "    \"input_path\": \"data/\",\n",
    "    \"output_path\": \"output/\",\n",
    "    \"file_name\": \"<<PLACEHOLER>>\",\n",
    "    \"sheet_name\": \"project\",\n",
    "    \"date_col_index\": [\"startDate\", \"endDate\"],\n",
    "    \"id_col\": \"rcn\",\n",
    "    \"text_col\": \"objective\",\n",
    "    \"date_col\": \"startDate\",\n",
    "    \"keep_pos\": [\"PROPN\", \"NOUN\", \"ADJ\"],\n",
    "    \"translate\": False,\n",
    "    \"add_bigrams\": True,\n",
    "    \"bigram_min_count\": 50,\n",
    "    \"dict_no_below\": 20,\n",
    "    \"dict_no_above\": 0.999,\n",
    "    \"additional_stop_words\": []\n",
    "}\n",
    "\n",
    "\n",
    "#############################################################\n",
    "# Aggregate data\n",
    "#############################################################\n",
    "\n",
    "finish_time = datetime.datetime.now()\n",
    "print(\n",
    "    f\"##################################\\nFinished data cleaning. Total duration was {finish_time - start_time}\\n\")\n",
    "\n",
    "aggregator_params = {\n",
    "    \"directory\": \"../output/\",\n",
    "    \"files\": files,\n",
    "    \"file_suffix\": \"_clean.csv\",\n",
    "    \"file_format\": \"csv\",\n",
    "    \"date_col\": \"startDate\",\n",
    "    \"target_cols\": [\"rcn\", \"startDate\", \"data_clean\", \"fp\", \"fp_no\"]\n",
    "}\n",
    "\n",
    "aggregator = DataAggregator(**aggregator_params)\n",
    "\n",
    "# df_agg = aggregator.aggregate_data()\n",
    "# aggregator.save_to_csv(df_agg)\n",
    "\n",
    "#############################################################\n",
    "# Create doc-term-matrix\n",
    "#############################################################\n",
    "\n",
    "finish_time = datetime.datetime.now()\n",
    "print(\n",
    "    f\"##################################\\nFinished data aggregation. Total duration was {finish_time - start_time}\\n\")\n",
    "\n",
    "# Read already aggregated data\n",
    "df_agg = aggregator.read_final_from_csv()\n",
    "# df_agg = df_agg.sample(1000).reset_index(drop=True)\n",
    "\n",
    "# Get converted cleaned data\n",
    "cleaner = DataCleaner(**cleaner_params)\n",
    "data_clean = cleaner.convert_data_clean(df_agg, \"data_clean\")\n",
    "\n",
    "# # Load dictionary\n",
    "dictionary = cleaner.load_dictionary(\"../assets/dictionary_all_projects\")\n",
    "\n",
    "# Create dtm\n",
    "doc_term_matrix = cleaner.create_doc_term_matrix(dictionary, data_clean)\n",
    "\n",
    "model_params = {\n",
    "    \"date_col\": \"startDate\",\n",
    "    \"time_ref_col\": \"fp_no\",  # fp or year\n",
    "    \"path_to_dtm_binary\": \"assets/dtm-win64.exe\",\n",
    "    \"dictionary\": dictionary,\n",
    "    \"doc_term_matrix\": doc_term_matrix,\n",
    "    \"seed\": 0,\n",
    "    # \"num_topics\": 50,\n",
    "    # \"num_topics\": 30,\n",
    "    \"num_topics\": 20,\n",
    "    # \"num_topics\": 10,\n",
    "    # \"output_file_path\": \"models/dtm/200302_dtm_all_projects_50\",\n",
    "    \"output_file_path\": \"../models/dtm/200228_dtm_all_projects_20\",\n",
    "    # \"output_file_path\": \"models/dtm/200301_dtm_all_projects_10\",\n",
    "    # \"output_file_path\": \"models/dtm/200303_dtm_all_projects_30\",\n",
    "    \"files\": files\n",
    "}\n",
    "\n",
    "# Initialize model\n",
    "dtm_model = DtmModel(**model_params)\n",
    "\n",
    "#############################################################\n",
    "# Assign topics and programmes to documents\n",
    "#############################################################\n",
    "\n",
    "finish_time = datetime.datetime.now()\n",
    "print(\n",
    "    f\"##################################\\nFinished modeling. Total duration was {finish_time - start_time}\\n\")\n",
    "\n",
    "# Load previously saved model\n",
    "dtm_model.load_model()\n",
    "#\n",
    "# #############################################################\n",
    "# # Aggregate topic detail csv\n",
    "# #############################################################\n",
    "\n",
    "topic_dif_files = [f\"topic_dif_{i}\" for i in range(20)]\n",
    "\n",
    "# Get aggregated data\n",
    "aggregator_params = {\n",
    "    \"directory\": \"../output/topics/\",\n",
    "    \"files\": topic_dif_files,\n",
    "    \"file_suffix\": \".csv\",\n",
    "    \"file_format\": \"csv\",\n",
    "}\n",
    "\n",
    "# Aggregate raw data with desired information\n",
    "aggregator = DataAggregator(**aggregator_params)\n",
    "# df_topics_detail = aggregator.aggregate_data()\n",
    "# df_topics_detail.to_csv(\"output/topics/all_topics_detail.csv\", index=False, float_format=\"%.15f\", sep=\";\",\n",
    "#                         decimal=\",\")\n",
    "\n",
    "#############################################################\n",
    "# Calculate evaluation metrics\n",
    "#############################################################\n",
    "\n",
    "finish_time = datetime.datetime.now()\n",
    "print(\n",
    "    f\"##################################\\nFinished calculating Power BI outputs. Total duration was {finish_time - start_time}\\n\")\n",
    "\n",
    "evaluator_params = {\n",
    "    \"topic_dif_file_path\": \"../output/topics/all_topics_detail.csv\",\n",
    "    \"files\": files,\n",
    "    \"model\": dtm_model.model,\n",
    "    \"num_time_slices\": 8,\n",
    "    \"doc_term_matrix\": doc_term_matrix,\n",
    "    \"dictionary\": dictionary,\n",
    "    \"coherence_metric\": \"u_mass\"\n",
    "}\n",
    "\n",
    "evaluator = Evaluator(**evaluator_params)\n",
    "\n",
    "# For time slice lag 1 ##################################\n",
    "evaluator.transform_topic_dif_data_lag_1()\n",
    "\n",
    "# Accuracy\n",
    "tp_tn = evaluator.df_eval[\"binary_lag_1_tp_tn\"].sum()\n",
    "total = evaluator.df_eval.shape[0]\n",
    "print(f\"Accuracy of binary predictions with time lag 1: \\n{tp_tn/total}\")\n",
    "\n",
    "# Correlation\n",
    "corr = evaluator.df_eval.corr().loc[\"real_lag_1_pred\", \"real_lag_1_test\"]\n",
    "print(f\"Correlation coefficient between between topic dif values with time lag 1: \\n{corr}\\n\")\n",
    "\n",
    "# Correlation of differences\n",
    "corr_dif = evaluator.df_dif_eval.corr().loc[\"real_dif_lag_1_pred\", \"real_dif_lag_1_test\"]\n",
    "print(f\"Correlation coefficient between between topic dif values with time lag 1: \\n{corr_dif}\\n\")\n"
   ]
  },
  {
   "cell_type": "markdown",
   "metadata": {},
   "source": [
    "### Calculate confusion matrix"
   ]
  },
  {
   "cell_type": "code",
   "execution_count": 4,
   "metadata": {},
   "outputs": [],
   "source": [
    "from sklearn.metrics import confusion_matrix as cm"
   ]
  },
  {
   "cell_type": "code",
   "execution_count": 5,
   "metadata": {},
   "outputs": [
    {
     "data": {
      "text/html": [
       "<div>\n",
       "<style scoped>\n",
       "    .dataframe tbody tr th:only-of-type {\n",
       "        vertical-align: middle;\n",
       "    }\n",
       "\n",
       "    .dataframe tbody tr th {\n",
       "        vertical-align: top;\n",
       "    }\n",
       "\n",
       "    .dataframe thead th {\n",
       "        text-align: right;\n",
       "    }\n",
       "</style>\n",
       "<table border=\"1\" class=\"dataframe\">\n",
       "  <thead>\n",
       "    <tr style=\"text-align: right;\">\n",
       "      <th></th>\n",
       "      <th>real_lag_1_pred</th>\n",
       "      <th>real_lag_1_test</th>\n",
       "      <th>binary_lag_1_pred</th>\n",
       "      <th>binary_lag_1_test</th>\n",
       "      <th>binary_lag_1_tp_tn</th>\n",
       "    </tr>\n",
       "  </thead>\n",
       "  <tbody>\n",
       "    <tr>\n",
       "      <td>0</td>\n",
       "      <td>1.018445e-04</td>\n",
       "      <td>1.828254e-04</td>\n",
       "      <td>1</td>\n",
       "      <td>1</td>\n",
       "      <td>True</td>\n",
       "    </tr>\n",
       "    <tr>\n",
       "      <td>1</td>\n",
       "      <td>1.438954e-04</td>\n",
       "      <td>2.399647e-04</td>\n",
       "      <td>1</td>\n",
       "      <td>1</td>\n",
       "      <td>True</td>\n",
       "    </tr>\n",
       "    <tr>\n",
       "      <td>2</td>\n",
       "      <td>4.764599e-06</td>\n",
       "      <td>-5.299984e-07</td>\n",
       "      <td>1</td>\n",
       "      <td>0</td>\n",
       "      <td>False</td>\n",
       "    </tr>\n",
       "    <tr>\n",
       "      <td>3</td>\n",
       "      <td>-5.962881e-06</td>\n",
       "      <td>-1.880278e-05</td>\n",
       "      <td>0</td>\n",
       "      <td>0</td>\n",
       "      <td>True</td>\n",
       "    </tr>\n",
       "    <tr>\n",
       "      <td>4</td>\n",
       "      <td>-4.402501e-08</td>\n",
       "      <td>-7.369862e-08</td>\n",
       "      <td>0</td>\n",
       "      <td>0</td>\n",
       "      <td>True</td>\n",
       "    </tr>\n",
       "  </tbody>\n",
       "</table>\n",
       "</div>"
      ],
      "text/plain": [
       "   real_lag_1_pred  real_lag_1_test  binary_lag_1_pred  binary_lag_1_test  binary_lag_1_tp_tn\n",
       "0     1.018445e-04     1.828254e-04                  1                  1                True\n",
       "1     1.438954e-04     2.399647e-04                  1                  1                True\n",
       "2     4.764599e-06    -5.299984e-07                  1                  0               False\n",
       "3    -5.962881e-06    -1.880278e-05                  0                  0                True\n",
       "4    -4.402501e-08    -7.369862e-08                  0                  0                True"
      ]
     },
     "execution_count": 5,
     "metadata": {},
     "output_type": "execute_result"
    }
   ],
   "source": [
    "evaluator.df_eval.head()"
   ]
  },
  {
   "cell_type": "code",
   "execution_count": 6,
   "metadata": {},
   "outputs": [
    {
     "data": {
      "text/plain": [
       "(607894, 209794, 88410, 955342)"
      ]
     },
     "execution_count": 6,
     "metadata": {},
     "output_type": "execute_result"
    }
   ],
   "source": [
    "y_true = evaluator.df_eval[\"binary_lag_1_test\"]\n",
    "y_pred = evaluator.df_eval[\"binary_lag_1_pred\"]\n",
    "\n",
    "tn, fp, fn, tp = cm(y_true, y_pred).ravel()\n",
    "(tn, fp, fn, tp)"
   ]
  },
  {
   "cell_type": "code",
   "execution_count": 7,
   "metadata": {},
   "outputs": [
    {
     "data": {
      "text/plain": [
       "1861440"
      ]
     },
     "execution_count": 7,
     "metadata": {},
     "output_type": "execute_result"
    }
   ],
   "source": [
    "tn + fp + fn + tp"
   ]
  },
  {
   "cell_type": "code",
   "execution_count": 8,
   "metadata": {},
   "outputs": [
    {
     "name": "stdout",
     "output_type": "stream",
     "text": [
      "[[4.64820910e-09 3.88098222e-09]\n",
      " [3.88098222e-09 5.09544002e-09]]\n",
      "6.817775737568813e-05\n",
      "7.138233174141341e-05\n"
     ]
    }
   ],
   "source": [
    "x = evaluator.df_eval[\"real_lag_1_pred\"]\n",
    "y = evaluator.df_eval[\"real_lag_1_test\"]\n",
    "print(np.cov(x,y))\n",
    "print(np.std(x))\n",
    "print(np.std(y))"
   ]
  },
  {
   "cell_type": "code",
   "execution_count": 9,
   "metadata": {},
   "outputs": [
    {
     "data": {
      "text/plain": [
       "(1861440, 5)"
      ]
     },
     "execution_count": 9,
     "metadata": {},
     "output_type": "execute_result"
    }
   ],
   "source": [
    "evaluator.df_eval.shape"
   ]
  },
  {
   "cell_type": "code",
   "execution_count": 10,
   "metadata": {},
   "outputs": [
    {
     "name": "stdout",
     "output_type": "stream",
     "text": [
      "0.7948974107327673\n"
     ]
    },
    {
     "data": {
      "image/png": "[encoded data removed]",
      "text/plain": [
       "<Figure size 432x288 with 1 Axes>"
      ]
     },
     "metadata": {},
     "output_type": "display_data"
    }
   ],
   "source": [
    "seed = 0\n",
    "factor= 10000\n",
    "\n",
    "sns.set(rc={'axes.facecolor':'whitesmoke', 'figure.facecolor':'white'},\n",
    "        color_codes=True, palette=\"dark\") # palette options: deep, muted, bright, pastel, dark, colorblind\n",
    "\n",
    "df_eval_sample = evaluator.df_eval.sample(5000, random_state=seed)\n",
    "# df_eval_sample = evaluator.df_eval\n",
    "df_eval_sample = df_eval_sample.astype(np.float64)\n",
    "df_eval_sample = df_eval_sample[(np.abs(stats.zscore(df_eval_sample)) < 3).all(axis=1)]\n",
    "\n",
    "print(df_eval_sample.corr().loc[\"real_lag_1_pred\", \"real_lag_1_test\"])\n",
    "\n",
    "ax = plt.axes(xlim=(-1, 1), ylim=(-1, 1))\n",
    "ax = sns.regplot(x=\"real_lag_1_pred\", y=\"real_lag_1_test\", \n",
    "            data=df_eval_sample*factor, \n",
    "            ax=ax, \n",
    "            marker=\".\", \n",
    "            scatter_kws={\"color\":\"grey\"},\n",
    "            line_kws={\"color\":\"black\"},\n",
    "           );\n",
    "ax = ax.set(title=f\"Factor=10^{round(math.log(factor, 10))}\", xlabel=\"dif_t\", ylabel=\"dif_t+1\")"
   ]
  },
  {
   "cell_type": "markdown",
   "metadata": {},
   "source": [
    "## Create subplots"
   ]
  },
  {
   "cell_type": "code",
   "execution_count": 14,
   "metadata": {},
   "outputs": [],
   "source": [
    "def create_regression_plot(df_evaluation, method, seed, factor, ax, sample_size=5000):\n",
    "\n",
    "    sns.set(rc={'axes.facecolor':'whitesmoke', 'figure.facecolor':'white'},\n",
    "            color_codes=True, palette=\"dark\") # palette options: deep, muted, bright, pastel, dark, colorblind\n",
    "    \n",
    "    # Get sample depending on method\n",
    "    if method == \"random\":\n",
    "        df_eval_sample = df_evaluation.sample(sample_size, random_state=seed)\n",
    "    elif method == \"hot\":\n",
    "        print(\"na\")\n",
    "    \n",
    "    # Format as number\n",
    "    df_eval_sample = df_eval_sample.astype(np.float64)\n",
    "    \n",
    "    # Remove outliers\n",
    "    df_eval_sample = df_eval_sample[(np.abs(stats.zscore(df_eval_sample)) < 3).all(axis=1)]\n",
    "\n",
    "\n",
    "    ax.set_xlim(left=-1, right=1)\n",
    "    ax.set_ylim(bottom=-1, top=1)\n",
    "    sns.regplot(x=\"real_lag_1_pred\", y=\"real_lag_1_test\", \n",
    "                data=df_eval_sample*factor, \n",
    "                ax=ax, \n",
    "                marker=\".\", \n",
    "                scatter_kws={\"color\":\"grey\"},\n",
    "                line_kws={\"color\":\"black\"},\n",
    "                ci=None\n",
    "               );\n",
    "    ax.set(title=f\"Factor=10^{round(math.log(factor, 10))}\", xlabel=\"Δ_t\", ylabel=\"Δ_t+1\") # β\n",
    "    \n",
    "    return ax"
   ]
  },
  {
   "cell_type": "code",
   "execution_count": 15,
   "metadata": {},
   "outputs": [
    {
     "data": {
      "image/png": "[encoded data removed]",
      "text/plain": [
       "<Figure size 1080x288 with 3 Axes>"
      ]
     },
     "metadata": {},
     "output_type": "display_data"
    }
   ],
   "source": [
    "seed = 0\n",
    "sample_size = 5000\n",
    "factors= [10000, 100000, 1000000]\n",
    "\n",
    "fig, axs = plt.subplots(nrows=1, ncols=3, figsize=[15, 4])\n",
    "fig.tight_layout()\n",
    "plt.subplots_adjust(left=0.05, bottom=0.05, right=0.95, top=0.95, wspace=0.3, hspace=0.3)\n",
    "\n",
    "for i in range(len(factors)):\n",
    "    \n",
    "    # Get factor\n",
    "    factor = factors[i]\n",
    "    \n",
    "    # Create sub plot\n",
    "    create_regression_plot(evaluator.df_eval, \"random\", seed, factor, axs[i], sample_size)"
   ]
  },
  {
   "cell_type": "code",
   "execution_count": 13,
   "metadata": {},
   "outputs": [],
   "source": [
    "fig.savefig(\"../images/3_regression_plots\")"
   ]
  }
 ],
 "metadata": {
  "kernelspec": {
   "display_name": "Python 3",
   "language": "python",
   "name": "python3"
  },
  "language_info": {
   "codemirror_mode": {
    "name": "ipython",
    "version": 3
   },
   "file_extension": ".py",
   "mimetype": "text/x-python",
   "name": "python",
   "nbconvert_exporter": "python",
   "pygments_lexer": "ipython3",
   "version": "3.7.4"
  }
 },
 "nbformat": 4,
 "nbformat_minor": 2
}
