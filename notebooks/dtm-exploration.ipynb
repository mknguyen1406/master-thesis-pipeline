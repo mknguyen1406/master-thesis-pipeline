{
 "cells": [
  {
   "cell_type": "code",
   "execution_count": 1,
   "metadata": {},
   "outputs": [],
   "source": [
    "import pandas as pd\n",
    "import matplotlib.pyplot as plt\n",
    "import numpy as np\n",
    "\n",
    "from gensim import models # includes multi-core LDA\n",
    "from gensim import corpora # to create a dictionary out of all words\n",
    "from gensim.models.coherencemodel import CoherenceModel\n",
    "from gensim.models.ldamodel import LdaModel\n",
    "import pickle # to save data to files for later use\n",
    "\n",
    "from gensim.test.utils import common_corpus, common_dictionary\n",
    "from gensim.models.wrappers import DtmModel"
   ]
  },
  {
   "cell_type": "code",
   "execution_count": 2,
   "metadata": {},
   "outputs": [],
   "source": [
    "# Load model\n",
    "model = DtmModel.load(\"../models/dtm/dtm_all_projects_20\")"
   ]
  },
  {
   "cell_type": "code",
   "execution_count": 4,
   "metadata": {},
   "outputs": [
    {
     "data": {
      "text/plain": [
       "20"
      ]
     },
     "execution_count": 4,
     "metadata": {},
     "output_type": "execute_result"
    }
   ],
   "source": [
    "# Check no of topics\n",
    "model.num_topics"
   ]
  },
  {
   "cell_type": "code",
   "execution_count": 136,
   "metadata": {
    "scrolled": true
   },
   "outputs": [
    {
     "name": "stdout",
     "output_type": "stream",
     "text": [
      "Topic no. 0:\n",
      " 0.030*software + 0.028*product + 0.027*quality + 0.024*production + 0.017*industry + 0.014*design + 0.014*industrial + 0.014*market + 0.012*cost + 0.011*company \n",
      "\n",
      "Topic no. 1:\n",
      " 0.041*cell + 0.029*protein + 0.019*gene + 0.015*dna + 0.010*enzyme + 0.009*acid + 0.008*sequence + 0.008*expression + 0.007*specific + 0.007*molecular \n",
      "\n",
      "Topic no. 2:\n",
      " 0.039*cell + 0.017*human + 0.016*tissue + 0.015*cancer + 0.014*tumour + 0.013*bone + 0.012*mouse + 0.011*animal + 0.010*effect + 0.009*treatment \n",
      "\n",
      "Topic no. 3:\n",
      " 0.024*theory + 0.016*problem + 0.014*algorithm + 0.012*theoretical + 0.012*quantum + 0.009*structure + 0.009*logic + 0.009*linear + 0.007*dynamic + 0.007*non \n",
      "\n",
      "Topic no. 4:\n",
      " 0.019*neural + 0.016*robot + 0.014*speech + 0.014*brain + 0.011*human + 0.010*recognition + 0.009*neural_network + 0.008*visual + 0.007*neuron + 0.007*motion \n",
      "\n",
      "Topic no. 5:\n",
      " 0.017*patient + 0.014*health + 0.013*disease + 0.013*virus + 0.009*care + 0.008*risk + 0.008*infection + 0.008*vaccine + 0.008*clinical + 0.008*hiv \n",
      "\n",
      "Topic no. 6:\n",
      " 0.024*economic + 0.023*policy + 0.019*country + 0.016*social + 0.008*national + 0.007*change + 0.007*market + 0.007*cultural + 0.005*economy + 0.005*people \n",
      "\n",
      "Topic no. 7:\n",
      " 0.014*service + 0.013*user + 0.011*information + 0.011*software + 0.010*design + 0.010*specification + 0.010*environment + 0.009*network + 0.009*interface + 0.008*requirement \n",
      "\n",
      "Topic no. 8:\n",
      " 0.021*gene + 0.018*plant + 0.012*genetic + 0.011*strain + 0.010*specie + 0.007*growth + 0.006*marker + 0.006*plasmid + 0.006*dna + 0.006*resistance \n",
      "\n",
      "Topic no. 9:\n",
      " 0.017*laser + 0.015*optical + 0.014*sensor + 0.014*device + 0.012*image + 0.010*processing + 0.008*circuit + 0.008*signal + 0.008*low + 0.007*design \n",
      "\n",
      "Topic no. 10:\n",
      " 0.020*soil + 0.011*water + 0.010*sea + 0.008*site + 0.007*change + 0.006*specie + 0.006*measurement + 0.006*effect + 0.006*sediment + 0.005*experiment \n",
      "\n",
      "Topic no. 11:\n",
      " 0.018*assessment + 0.013*management + 0.012*evaluation + 0.011*environmental + 0.010*impact + 0.010*decision + 0.010*transport + 0.009*risk + 0.008*cost + 0.008*task \n",
      "\n",
      "Topic no. 12:\n",
      " 0.016*material + 0.012*design + 0.011*wind + 0.011*component + 0.010*test + 0.009*machine + 0.008*steel + 0.008*composite + 0.007*cost + 0.007*performance \n",
      "\n",
      "Topic no. 13:\n",
      " 0.013*test + 0.010*measurement + 0.009*flow + 0.007*experimental + 0.007*behaviour + 0.006*modelling + 0.006*condition + 0.006*experiment + 0.006*code + 0.005*parameter \n",
      "\n",
      "Topic no. 14:\n",
      " 0.027*information + 0.019*programme + 0.017*group + 0.017*network + 0.014*community + 0.014*country + 0.012*activity + 0.012*national + 0.012*report + 0.010*europe \n",
      "\n",
      "Topic no. 15:\n",
      " 0.022*energy + 0.015*fuel + 0.014*gas + 0.013*plant + 0.012*heat + 0.010*temperature + 0.009*combustion + 0.008*power + 0.008*coal + 0.008*cell \n",
      "\n",
      "Topic no. 16:\n",
      " 0.056*content + 0.054*university + 0.048*training + 0.036*industrial + 0.031*industry + 0.024*benefit + 0.020*link + 0.019*impact + 0.015*objective_benefit + 0.014*training_content \n",
      "\n",
      "Topic no. 17:\n",
      " 0.012*waste + 0.011*product + 0.009*production + 0.009*material + 0.009*acid + 0.008*chemical + 0.008*treatment + 0.007*plant + 0.007*water + 0.007*quality \n",
      "\n",
      "Topic no. 18:\n",
      " 0.017*material + 0.013*property + 0.011*surface + 0.011*temperature + 0.011*metal + 0.009*film + 0.008*layer + 0.007*structure + 0.007*reaction + 0.007*coating \n",
      "\n",
      "Topic no. 19:\n",
      " 0.030*dose + 0.028*radiation + 0.012*measurement + 0.009*exposure + 0.009*nuclear + 0.009*radionuclide + 0.008*low + 0.007*neutron + 0.007*ray + 0.007*irradiation \n",
      "\n"
     ]
    }
   ],
   "source": [
    "for topic in range(model.num_topics):\n",
    "    print(f\"Topic no. {topic}:\\n\", model.print_topic(topic,0), \"\\n\")"
   ]
  },
  {
   "cell_type": "code",
   "execution_count": 85,
   "metadata": {},
   "outputs": [],
   "source": [
    "df_agg = pd.read_csv(\"../output/all_projects.csv\", index_col=0)"
   ]
  },
  {
   "cell_type": "code",
   "execution_count": 86,
   "metadata": {},
   "outputs": [],
   "source": [
    "# return list from string\n",
    "def to_list(text):\n",
    "    return text.replace(\"[\", \"\").replace(\"]\", \"\").replace(\"'\", \"\").replace(\" \", \"\").split(\",\")\n",
    "\n",
    "data_clean = df_agg[\"data_clean\"].apply(lambda text: to_list(text))"
   ]
  },
  {
   "cell_type": "code",
   "execution_count": 87,
   "metadata": {},
   "outputs": [
    {
     "data": {
      "text/plain": [
       "93778"
      ]
     },
     "execution_count": 87,
     "metadata": {},
     "output_type": "execute_result"
    }
   ],
   "source": [
    "len(data_clean) # before 2714"
   ]
  },
  {
   "cell_type": "code",
   "execution_count": 56,
   "metadata": {},
   "outputs": [],
   "source": [
    "dictionary = corpora.Dictionary.load(\"../assets/dictionary_all_projects\")"
   ]
  },
  {
   "cell_type": "code",
   "execution_count": 88,
   "metadata": {},
   "outputs": [],
   "source": [
    "doc_term_matrix = [dictionary.doc2bow(doc) for doc in data_clean]"
   ]
  },
  {
   "cell_type": "code",
   "execution_count": 89,
   "metadata": {},
   "outputs": [
    {
     "data": {
      "text/plain": [
       "93778"
      ]
     },
     "execution_count": 89,
     "metadata": {},
     "output_type": "execute_result"
    }
   ],
   "source": [
    "len(doc_term_matrix)"
   ]
  },
  {
   "cell_type": "code",
   "execution_count": 137,
   "metadata": {},
   "outputs": [],
   "source": [
    "doc_topic, topic_term, doc_lengths, term_frequency, vocab = model.dtm_vis(doc_term_matrix, 0)"
   ]
  },
  {
   "cell_type": "code",
   "execution_count": 139,
   "metadata": {},
   "outputs": [
    {
     "data": {
      "text/plain": [
       "20"
      ]
     },
     "execution_count": 139,
     "metadata": {},
     "output_type": "execute_result"
    }
   ],
   "source": [
    "len(topic_term)"
   ]
  },
  {
   "cell_type": "code",
   "execution_count": 103,
   "metadata": {},
   "outputs": [
    {
     "data": {
      "text/plain": [
       "17"
      ]
     },
     "execution_count": 103,
     "metadata": {},
     "output_type": "execute_result"
    }
   ],
   "source": [
    "np.argmax(doc_topic[4000]) # before 17"
   ]
  },
  {
   "cell_type": "code",
   "execution_count": 119,
   "metadata": {},
   "outputs": [
    {
     "data": {
      "text/plain": [
       "array([1.16046104e-03, 3.77829005e-04, 2.66834225e-04, ...,\n",
       "       2.40936457e-06, 2.40936457e-06, 2.40936457e-06])"
      ]
     },
     "execution_count": 119,
     "metadata": {},
     "output_type": "execute_result"
    }
   ],
   "source": [
    "topic_term[0]"
   ]
  },
  {
   "cell_type": "code",
   "execution_count": 120,
   "metadata": {},
   "outputs": [],
   "source": [
    "files = [\"fp1_projects\",\n",
    "             \"fp2_projects\",\n",
    "             \"fp3_projects\",\n",
    "             \"fp4_projects\",\n",
    "             \"fp5_projects\",\n",
    "             \"fp6_projects\",\n",
    "             \"fp7_projects\",\n",
    "             \"h2020_projects\"\n",
    "             ]"
   ]
  },
  {
   "cell_type": "code",
   "execution_count": 126,
   "metadata": {},
   "outputs": [],
   "source": [
    "topic_id = 0\n",
    "\n",
    "_, _, _, _, vocab = model.dtm_vis(doc_term_matrix, 0)\n",
    "\n",
    "# Create data frame with dummy column having the length of the vocab\n",
    "df_topic = pd.DataFrame([0]*len(vocab))\n",
    "\n",
    "for i in range(len(files)):\n",
    "    _, topic_term, _, _, _ = model.dtm_vis(doc_term_matrix, i)  \n",
    "    df_topic[files[i]] = topic_term[i]\n",
    "    \n",
    "df_topic.index = vocab\n",
    "df_topic = df_topic_0.drop(columns=[0])"
   ]
  },
  {
   "cell_type": "code",
   "execution_count": 131,
   "metadata": {},
   "outputs": [
    {
     "name": "stderr",
     "output_type": "stream",
     "text": [
      "C:\\Users\\Minh-Kha\\.conda\\envs\\thesis\\lib\\site-packages\\IPython\\core\\interactiveshell.py:3058: DtypeWarning: Columns (0) have mixed types. Specify dtype option on import or set low_memory=False.\n",
      "  interactivity=interactivity, compiler=compiler, result=result)\n"
     ]
    }
   ],
   "source": [
    "df_export = pd.read_csv(\"../output/all_projects_topics.csv\", parse_dates=[1])"
   ]
  },
  {
   "cell_type": "code",
   "execution_count": 132,
   "metadata": {},
   "outputs": [],
   "source": [
    "df_export.to_excel(\"../output/all_projects_topics.xlsx\", index=False)"
   ]
  },
  {
   "cell_type": "code",
   "execution_count": null,
   "metadata": {},
   "outputs": [],
   "source": []
  },
  {
   "cell_type": "code",
   "execution_count": null,
   "metadata": {},
   "outputs": [],
   "source": []
  }
 ],
 "metadata": {
  "kernelspec": {
   "display_name": "Python 3",
   "language": "python",
   "name": "python3"
  },
  "language_info": {
   "codemirror_mode": {
    "name": "ipython",
    "version": 3
   },
   "file_extension": ".py",
   "mimetype": "text/x-python",
   "name": "python",
   "nbconvert_exporter": "python",
   "pygments_lexer": "ipython3",
   "version": "3.7.5"
  }
 },
 "nbformat": 4,
 "nbformat_minor": 2
}
