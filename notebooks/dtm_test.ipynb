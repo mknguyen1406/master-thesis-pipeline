{
 "cells": [
  {
   "cell_type": "code",
   "execution_count": 12,
   "metadata": {},
   "outputs": [],
   "source": [
    "import nltk\n",
    "import pandas as pd"
   ]
  },
  {
   "cell_type": "code",
   "execution_count": 4,
   "metadata": {},
   "outputs": [],
   "source": [
    "from nltk.corpus import stopwords"
   ]
  },
  {
   "cell_type": "code",
   "execution_count": 8,
   "metadata": {},
   "outputs": [],
   "source": [
    "stoplist = stopwords.words('english')"
   ]
  },
  {
   "cell_type": "code",
   "execution_count": 10,
   "metadata": {},
   "outputs": [],
   "source": [
    "from nltk.probability import FreqDist\n",
    "fdist = FreqDist(stoplist)\n",
    "top_ten = fdist.most_common(10)"
   ]
  },
  {
   "cell_type": "code",
   "execution_count": 11,
   "metadata": {},
   "outputs": [
    {
     "data": {
      "text/plain": [
       "[('i', 1),\n",
       " ('me', 1),\n",
       " ('my', 1),\n",
       " ('myself', 1),\n",
       " ('we', 1),\n",
       " ('our', 1),\n",
       " ('ours', 1),\n",
       " ('ourselves', 1),\n",
       " ('you', 1),\n",
       " (\"you're\", 1)]"
      ]
     },
     "execution_count": 11,
     "metadata": {},
     "output_type": "execute_result"
    }
   ],
   "source": [
    "top_ten"
   ]
  },
  {
   "cell_type": "code",
   "execution_count": 45,
   "metadata": {},
   "outputs": [],
   "source": [
    "df = pd.read_csv(\"../output/all_projects.csv\", index_col=0, parse_dates=[\"startDate\"])"
   ]
  },
  {
   "cell_type": "code",
   "execution_count": 46,
   "metadata": {},
   "outputs": [
    {
     "data": {
      "text/html": [
       "<div>\n",
       "<style scoped>\n",
       "    .dataframe tbody tr th:only-of-type {\n",
       "        vertical-align: middle;\n",
       "    }\n",
       "\n",
       "    .dataframe tbody tr th {\n",
       "        vertical-align: top;\n",
       "    }\n",
       "\n",
       "    .dataframe thead th {\n",
       "        text-align: right;\n",
       "    }\n",
       "</style>\n",
       "<table border=\"1\" class=\"dataframe\">\n",
       "  <thead>\n",
       "    <tr style=\"text-align: right;\">\n",
       "      <th></th>\n",
       "      <th>id</th>\n",
       "      <th>startDate</th>\n",
       "      <th>objective</th>\n",
       "      <th>data_clean</th>\n",
       "      <th>fp</th>\n",
       "    </tr>\n",
       "  </thead>\n",
       "  <tbody>\n",
       "    <tr>\n",
       "      <th>0</th>\n",
       "      <td>1452</td>\n",
       "      <td>1983-07-20</td>\n",
       "      <td>The project had two aims: to develop draft des...</td>\n",
       "      <td>['project', 'aim', 'draft', 'design', 'rule', ...</td>\n",
       "      <td>1</td>\n",
       "    </tr>\n",
       "    <tr>\n",
       "      <th>1</th>\n",
       "      <td>1471</td>\n",
       "      <td>1983-08-01</td>\n",
       "      <td>The objectives of this project were to design ...</td>\n",
       "      <td>['objective', 'project', 'lsi', 'vlsi', 'subsy...</td>\n",
       "      <td>1</td>\n",
       "    </tr>\n",
       "    <tr>\n",
       "      <th>2</th>\n",
       "      <td>1538</td>\n",
       "      <td>1983-08-01</td>\n",
       "      <td>The objectives of this project were to develop...</td>\n",
       "      <td>['objective', 'project', 'method', 'circuit', ...</td>\n",
       "      <td>1</td>\n",
       "    </tr>\n",
       "    <tr>\n",
       "      <th>3</th>\n",
       "      <td>1481</td>\n",
       "      <td>1983-09-01</td>\n",
       "      <td>The objectives of this project were to develop...</td>\n",
       "      <td>['objective', 'project', 'image', 'analysis', ...</td>\n",
       "      <td>1</td>\n",
       "    </tr>\n",
       "    <tr>\n",
       "      <th>4</th>\n",
       "      <td>1449</td>\n",
       "      <td>1983-09-01</td>\n",
       "      <td>The objective of the project was to produce a ...</td>\n",
       "      <td>['objective', 'project', 'comprehensive', 'rep...</td>\n",
       "      <td>1</td>\n",
       "    </tr>\n",
       "  </tbody>\n",
       "</table>\n",
       "</div>"
      ],
      "text/plain": [
       "     id  startDate                                          objective  \\\n",
       "0  1452 1983-07-20  The project had two aims: to develop draft des...   \n",
       "1  1471 1983-08-01  The objectives of this project were to design ...   \n",
       "2  1538 1983-08-01  The objectives of this project were to develop...   \n",
       "3  1481 1983-09-01  The objectives of this project were to develop...   \n",
       "4  1449 1983-09-01  The objective of the project was to produce a ...   \n",
       "\n",
       "                                          data_clean  fp  \n",
       "0  ['project', 'aim', 'draft', 'design', 'rule', ...   1  \n",
       "1  ['objective', 'project', 'lsi', 'vlsi', 'subsy...   1  \n",
       "2  ['objective', 'project', 'method', 'circuit', ...   1  \n",
       "3  ['objective', 'project', 'image', 'analysis', ...   1  \n",
       "4  ['objective', 'project', 'comprehensive', 'rep...   1  "
      ]
     },
     "execution_count": 46,
     "metadata": {},
     "output_type": "execute_result"
    }
   ],
   "source": [
    "df.head()"
   ]
  },
  {
   "cell_type": "code",
   "execution_count": 47,
   "metadata": {},
   "outputs": [],
   "source": [
    "# return list from string\n",
    "def to_list(text):\n",
    "    return text.replace(\"[\", \"\").replace(\"]\", \"\").replace(\"'\",\"\").replace(\" \",\"\").split(\",\")\n",
    "\n",
    "# Apply cleaning function\n",
    "data_clean = df[\"data_clean\"].apply(lambda text: to_list(text))"
   ]
  },
  {
   "cell_type": "code",
   "execution_count": 48,
   "metadata": {},
   "outputs": [],
   "source": [
    "data_flat = [word for project in data_clean for word in project]"
   ]
  },
  {
   "cell_type": "code",
   "execution_count": 42,
   "metadata": {},
   "outputs": [],
   "source": [
    "fdist = FreqDist(data_flat)\n",
    "top_ten = fdist.most_common(100)"
   ]
  },
  {
   "cell_type": "code",
   "execution_count": null,
   "metadata": {},
   "outputs": [],
   "source": [
    "# Filter out words that occur less than 10 documents, or more than 20% of the documents.\n",
    "print('Number of unique words before removing rare and common words:', len(dictionary))\n",
    "\n",
    "dictionary.filter_extremes(no_below=10, no_above=0.2)\n",
    "print('Number of unique words after removing rare and common words:', len(dictionary))"
   ]
  },
  {
   "cell_type": "code",
   "execution_count": 43,
   "metadata": {},
   "outputs": [
    {
     "data": {
      "image/png": "[encoded data removed]",
      "text/plain": [
       "<Figure size 432x288 with 1 Axes>"
      ]
     },
     "metadata": {
      "needs_background": "light"
     },
     "output_type": "display_data"
    },
    {
     "data": {
      "text/plain": [
       "<matplotlib.axes._subplots.AxesSubplot at 0x14821a88e08>"
      ]
     },
     "execution_count": 43,
     "metadata": {},
     "output_type": "execute_result"
    }
   ],
   "source": [
    "fdist.plot(10)"
   ]
  },
  {
   "cell_type": "code",
   "execution_count": null,
   "metadata": {},
   "outputs": [],
   "source": []
  }
 ],
 "metadata": {
  "kernelspec": {
   "display_name": "Python 3",
   "language": "python",
   "name": "python3"
  },
  "language_info": {
   "codemirror_mode": {
    "name": "ipython",
    "version": 3
   },
   "file_extension": ".py",
   "mimetype": "text/x-python",
   "name": "python",
   "nbconvert_exporter": "python",
   "pygments_lexer": "ipython3",
   "version": "3.7.5"
  }
 },
 "nbformat": 4,
 "nbformat_minor": 2
}
