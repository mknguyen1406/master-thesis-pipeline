{
 "cells": [
  {
   "cell_type": "code",
   "execution_count": 6,
   "metadata": {},
   "outputs": [],
   "source": [
    "import spacy\n",
    "import re"
   ]
  },
  {
   "cell_type": "code",
   "execution_count": 7,
   "metadata": {},
   "outputs": [],
   "source": [
    "nlp = spacy.load(\"en_core_web_sm\")"
   ]
  },
  {
   "cell_type": "code",
   "execution_count": 8,
   "metadata": {},
   "outputs": [
    {
     "data": {
      "text/plain": [
       "list"
      ]
     },
     "execution_count": 8,
     "metadata": {},
     "output_type": "execute_result"
    }
   ],
   "source": [
    "type(list(nlp.Defaults.stop_words))"
   ]
  },
  {
   "cell_type": "code",
   "execution_count": 9,
   "metadata": {},
   "outputs": [
    {
     "name": "stdout",
     "output_type": "stream",
     "text": [
      "326\n"
     ]
    }
   ],
   "source": [
    "print(len(nlp.Defaults.stop_words))"
   ]
  },
  {
   "cell_type": "code",
   "execution_count": 10,
   "metadata": {},
   "outputs": [],
   "source": [
    "nlp.Defaults.stop_words.add(\"my_new_stopword\")"
   ]
  },
  {
   "cell_type": "code",
   "execution_count": 11,
   "metadata": {},
   "outputs": [
    {
     "name": "stdout",
     "output_type": "stream",
     "text": [
      "327\n"
     ]
    }
   ],
   "source": [
    "print(len(nlp.Defaults.stop_words))"
   ]
  },
  {
   "cell_type": "code",
   "execution_count": 12,
   "metadata": {},
   "outputs": [],
   "source": [
    "nlp.Defaults.stop_words.remove(\"whatever\")"
   ]
  },
  {
   "cell_type": "code",
   "execution_count": 13,
   "metadata": {},
   "outputs": [
    {
     "name": "stdout",
     "output_type": "stream",
     "text": [
      "326\n"
     ]
    }
   ],
   "source": [
    "print(len(nlp.Defaults.stop_words))"
   ]
  },
  {
   "cell_type": "code",
   "execution_count": 14,
   "metadata": {},
   "outputs": [],
   "source": [
    "doc = nlp(\"  you little idiot2:    my_new_stopword co2   \")"
   ]
  },
  {
   "cell_type": "code",
   "execution_count": 15,
   "metadata": {},
   "outputs": [
    {
     "name": "stdout",
     "output_type": "stream",
     "text": [
      "   False False\n",
      "you True True\n",
      "little False True\n",
      "idiot2 False False\n",
      ": False False\n",
      "    False False\n",
      "my_new_stopword True False\n",
      "co2 False False\n",
      "   False False\n"
     ]
    }
   ],
   "source": [
    "for token in doc:\n",
    "    print(token, token.is_stop, token.is_alpha)"
   ]
  },
  {
   "cell_type": "code",
   "execution_count": 16,
   "metadata": {},
   "outputs": [
    {
     "data": {
      "text/plain": [
       "'you little idiot2:    my_new_stopword co2'"
      ]
     },
     "execution_count": 16,
     "metadata": {},
     "output_type": "execute_result"
    }
   ],
   "source": [
    "\"  you little idiot2:    my_new_stopword co2   \".strip()"
   ]
  },
  {
   "cell_type": "code",
   "execution_count": 17,
   "metadata": {},
   "outputs": [],
   "source": [
    "s = re.sub(' +', ' ', '  you little idiot2:    my_new_stopword CO2   asdas,'.strip().lower())"
   ]
  },
  {
   "cell_type": "code",
   "execution_count": 18,
   "metadata": {},
   "outputs": [],
   "source": [
    "doc = nlp(s)"
   ]
  },
  {
   "cell_type": "code",
   "execution_count": 19,
   "metadata": {},
   "outputs": [
    {
     "name": "stdout",
     "output_type": "stream",
     "text": [
      "you True True\n",
      "little False True\n",
      "idiot2 False False\n",
      ": False False\n",
      "my_new_stopword True False\n",
      "co2 False False\n",
      "asdas False True\n",
      ", False False\n"
     ]
    }
   ],
   "source": [
    "for token in doc:\n",
    "    print(token, token.is_stop, token.is_alpha)"
   ]
  },
  {
   "cell_type": "code",
   "execution_count": 20,
   "metadata": {},
   "outputs": [],
   "source": [
    "s = re.sub(' +', ' ', '  you little idiot2:    my_new_stopword CO2   asdas,'.strip().lower())"
   ]
  },
  {
   "cell_type": "code",
   "execution_count": 21,
   "metadata": {},
   "outputs": [],
   "source": [
    "doc = nlp(s)"
   ]
  },
  {
   "cell_type": "code",
   "execution_count": 22,
   "metadata": {},
   "outputs": [
    {
     "name": "stdout",
     "output_type": "stream",
     "text": [
      "you True True\n",
      "little False True\n",
      "idiot2 False False\n",
      ": False False\n",
      "my_new_stopword True False\n",
      "co2 False False\n",
      "asdas False True\n",
      ", False False\n"
     ]
    }
   ],
   "source": [
    "for token in doc:\n",
    "    print(token, token.is_stop, token.is_alpha)"
   ]
  },
  {
   "cell_type": "code",
   "execution_count": 23,
   "metadata": {},
   "outputs": [],
   "source": [
    "nlp.Defaults.stop_words.add(\"my_new_stopword\")\n",
    "nlp.Defaults.stop_words.add(\"my_new_stopword1\")\n",
    "nlp.Defaults.stop_words.add(\"my_new_stopword2\")\n",
    "nlp.Defaults.stop_words.add(\"my_new_stopword3\")"
   ]
  },
  {
   "cell_type": "code",
   "execution_count": 24,
   "metadata": {},
   "outputs": [],
   "source": [
    "s = re.sub(' +', ' ', '  you little my_new_stopword idiot2:  my_new_stopword1  my_new_stopword CO2   asdas,'.strip().lower())"
   ]
  },
  {
   "cell_type": "code",
   "execution_count": 25,
   "metadata": {},
   "outputs": [],
   "source": [
    "doc = nlp(s)"
   ]
  },
  {
   "cell_type": "code",
   "execution_count": 26,
   "metadata": {},
   "outputs": [
    {
     "name": "stdout",
     "output_type": "stream",
     "text": [
      "you True True\n",
      "little False True\n",
      "my_new_stopword True False\n",
      "idiot2 False False\n",
      ": False False\n",
      "my_new_stopword1 True False\n",
      "my_new_stopword True False\n",
      "co2 False False\n",
      "asdas False True\n",
      ", False False\n"
     ]
    }
   ],
   "source": [
    "for token in doc:\n",
    "    print(token, token.is_stop, token.is_alpha)"
   ]
  },
  {
   "cell_type": "code",
   "execution_count": 27,
   "metadata": {},
   "outputs": [
    {
     "data": {
      "text/plain": [
       "[\"'d\",\n",
       " 'my_new_stopword3',\n",
       " 'what',\n",
       " 'rather',\n",
       " 'itself',\n",
       " 'within',\n",
       " '’ve',\n",
       " 'may',\n",
       " '‘s',\n",
       " 'again',\n",
       " 'thus',\n",
       " 'nor',\n",
       " 'afterwards',\n",
       " 'must',\n",
       " 'of',\n",
       " 'full',\n",
       " 'nevertheless',\n",
       " 'if',\n",
       " 'back',\n",
       " 'empty',\n",
       " 'can',\n",
       " 'fifteen',\n",
       " 'often',\n",
       " 'just',\n",
       " 'wherever',\n",
       " 'whoever',\n",
       " 'former',\n",
       " 'below',\n",
       " 'nine',\n",
       " 'ourselves',\n",
       " 'or',\n",
       " 'from',\n",
       " 'each',\n",
       " 'another',\n",
       " 'doing',\n",
       " 'few',\n",
       " \"'ve\",\n",
       " 'seemed',\n",
       " 'until',\n",
       " 'together',\n",
       " 'on',\n",
       " 'alone',\n",
       " 'hereafter',\n",
       " 'herself',\n",
       " 'at',\n",
       " 'his',\n",
       " 'is',\n",
       " 'those',\n",
       " 'did',\n",
       " 'out',\n",
       " 'my_new_stopword',\n",
       " 'you',\n",
       " 'next',\n",
       " '‘m',\n",
       " 'hundred',\n",
       " 'something',\n",
       " 'against',\n",
       " 'anyway',\n",
       " 'amongst',\n",
       " 'yourself',\n",
       " 'me',\n",
       " 'put',\n",
       " 'however',\n",
       " 'top',\n",
       " 'say',\n",
       " 'thereby',\n",
       " 'she',\n",
       " 'than',\n",
       " 'above',\n",
       " 'bottom',\n",
       " 'fifty',\n",
       " \"'re\",\n",
       " 'anyhow',\n",
       " 'besides',\n",
       " 'could',\n",
       " 'front',\n",
       " 'to',\n",
       " 'made',\n",
       " 'by',\n",
       " 'many',\n",
       " 'their',\n",
       " 'thru',\n",
       " 'make',\n",
       " 'everyone',\n",
       " 'become',\n",
       " 'same',\n",
       " 'beyond',\n",
       " 'themselves',\n",
       " 'somewhere',\n",
       " '’d',\n",
       " 'side',\n",
       " 'an',\n",
       " 'n’t',\n",
       " 'this',\n",
       " '’ll',\n",
       " 'my_new_stopword1',\n",
       " 'the',\n",
       " 'them',\n",
       " 'six',\n",
       " 'wherein',\n",
       " 'least',\n",
       " 'which',\n",
       " 'behind',\n",
       " 'whither',\n",
       " 'it',\n",
       " 'were',\n",
       " 'will',\n",
       " 'nothing',\n",
       " 'please',\n",
       " 'regarding',\n",
       " '’s',\n",
       " 'for',\n",
       " 'among',\n",
       " 'toward',\n",
       " 'such',\n",
       " 'my',\n",
       " 'get',\n",
       " 'we',\n",
       " 'otherwise',\n",
       " 'her',\n",
       " 'too',\n",
       " 'more',\n",
       " 'should',\n",
       " 'anywhere',\n",
       " 'four',\n",
       " 'thence',\n",
       " 'that',\n",
       " 'only',\n",
       " 'through',\n",
       " 'being',\n",
       " 'take',\n",
       " 'everything',\n",
       " 'so',\n",
       " 'other',\n",
       " 'ours',\n",
       " 'everywhere',\n",
       " 'noone',\n",
       " 'show',\n",
       " 'but',\n",
       " 'whom',\n",
       " 'he',\n",
       " 'indeed',\n",
       " 'well',\n",
       " 'thereafter',\n",
       " 'seems',\n",
       " 'up',\n",
       " 'sixty',\n",
       " 'very',\n",
       " 'am',\n",
       " 'there',\n",
       " 'yours',\n",
       " 'move',\n",
       " 'unless',\n",
       " '’re',\n",
       " 'five',\n",
       " 'was',\n",
       " 'never',\n",
       " 'would',\n",
       " 'during',\n",
       " 'all',\n",
       " 'off',\n",
       " 'i',\n",
       " 'myself',\n",
       " 'been',\n",
       " 'hereby',\n",
       " 'amount',\n",
       " 'how',\n",
       " 'have',\n",
       " 'used',\n",
       " 'part',\n",
       " 're',\n",
       " 'under',\n",
       " 'him',\n",
       " 'a',\n",
       " 'became',\n",
       " 'meanwhile',\n",
       " 'whereby',\n",
       " 'call',\n",
       " 'nowhere',\n",
       " 'with',\n",
       " 'eleven',\n",
       " 'give',\n",
       " 'twenty',\n",
       " '‘re',\n",
       " 'third',\n",
       " 'much',\n",
       " \"'m\",\n",
       " 'already',\n",
       " 'keep',\n",
       " 'eight',\n",
       " 'perhaps',\n",
       " 'no',\n",
       " 'whether',\n",
       " 'forty',\n",
       " 'its',\n",
       " 'less',\n",
       " 'anyone',\n",
       " 'n‘t',\n",
       " 'as',\n",
       " 'had',\n",
       " 'they',\n",
       " 'hers',\n",
       " 'sometimes',\n",
       " 'once',\n",
       " 'always',\n",
       " 'our',\n",
       " 'where',\n",
       " 'do',\n",
       " 'first',\n",
       " 'after',\n",
       " 'both',\n",
       " 'several',\n",
       " 'latter',\n",
       " 'hence',\n",
       " 'else',\n",
       " 'two',\n",
       " 'yourselves',\n",
       " 'beside',\n",
       " 'still',\n",
       " 'across',\n",
       " 'be',\n",
       " 'before',\n",
       " 'some',\n",
       " 'over',\n",
       " 'why',\n",
       " 'seeming',\n",
       " 'almost',\n",
       " '’m',\n",
       " 'upon',\n",
       " 'various',\n",
       " 'except',\n",
       " 'while',\n",
       " 'himself',\n",
       " 'then',\n",
       " 'nobody',\n",
       " 'though',\n",
       " 'neither',\n",
       " 'namely',\n",
       " 'not',\n",
       " 'are',\n",
       " \"n't\",\n",
       " 'might',\n",
       " 'ca',\n",
       " 'latterly',\n",
       " 'towards',\n",
       " '‘ve',\n",
       " 'name',\n",
       " 'ever',\n",
       " 'mine',\n",
       " 'these',\n",
       " 'per',\n",
       " 'sometime',\n",
       " 'who',\n",
       " 'via',\n",
       " 'without',\n",
       " 'serious',\n",
       " 'down',\n",
       " 'either',\n",
       " 'between',\n",
       " 'formerly',\n",
       " 'whose',\n",
       " 'whence',\n",
       " 'around',\n",
       " 'your',\n",
       " 'because',\n",
       " 'anything',\n",
       " 'whenever',\n",
       " 'further',\n",
       " 'done',\n",
       " 'moreover',\n",
       " 'since',\n",
       " 'most',\n",
       " 'really',\n",
       " 'throughout',\n",
       " 'onto',\n",
       " 'somehow',\n",
       " 'therein',\n",
       " 'does',\n",
       " 'any',\n",
       " 'in',\n",
       " 'none',\n",
       " 'hereupon',\n",
       " \"'ll\",\n",
       " 'becomes',\n",
       " 'whereupon',\n",
       " 'whereafter',\n",
       " 'ten',\n",
       " 'thereupon',\n",
       " 'therefore',\n",
       " 'mostly',\n",
       " 'herein',\n",
       " 'also',\n",
       " 'one',\n",
       " 'even',\n",
       " 'own',\n",
       " 'last',\n",
       " 'twelve',\n",
       " 'about',\n",
       " 'quite',\n",
       " 'although',\n",
       " 'using',\n",
       " 'into',\n",
       " 'whereas',\n",
       " 'yet',\n",
       " 'becoming',\n",
       " 'someone',\n",
       " 'three',\n",
       " 'whole',\n",
       " 'cannot',\n",
       " 'along',\n",
       " 'here',\n",
       " 'has',\n",
       " '‘d',\n",
       " 'see',\n",
       " 'when',\n",
       " 'enough',\n",
       " 'my_new_stopword2',\n",
       " 'beforehand',\n",
       " 'every',\n",
       " 'others',\n",
       " 'elsewhere',\n",
       " 'and',\n",
       " '‘ll',\n",
       " 'us',\n",
       " 'now',\n",
       " 'due',\n",
       " 'go',\n",
       " 'seem',\n",
       " \"'s\"]"
      ]
     },
     "execution_count": 27,
     "metadata": {},
     "output_type": "execute_result"
    }
   ],
   "source": [
    "list(nlp.Defaults.stop_words)"
   ]
  },
  {
   "cell_type": "code",
   "execution_count": 28,
   "metadata": {},
   "outputs": [
    {
     "data": {
      "text/plain": [
       "True"
      ]
     },
     "execution_count": 28,
     "metadata": {},
     "output_type": "execute_result"
    }
   ],
   "source": [
    "'my_new_stopword1' in list(nlp.Defaults.stop_words)"
   ]
  },
  {
   "cell_type": "code",
   "execution_count": null,
   "metadata": {},
   "outputs": [],
   "source": []
  },
  {
   "cell_type": "code",
   "execution_count": null,
   "metadata": {},
   "outputs": [],
   "source": []
  }
 ],
 "metadata": {
  "kernelspec": {
   "display_name": "Python 3",
   "language": "python",
   "name": "python3"
  },
  "language_info": {
   "codemirror_mode": {
    "name": "ipython",
    "version": 3
   },
   "file_extension": ".py",
   "mimetype": "text/x-python",
   "name": "python",
   "nbconvert_exporter": "python",
   "pygments_lexer": "ipython3",
   "version": "3.7.4"
  }
 },
 "nbformat": 4,
 "nbformat_minor": 2
}
