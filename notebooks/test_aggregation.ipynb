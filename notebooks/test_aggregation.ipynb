{
 "cells": [
  {
   "cell_type": "code",
   "execution_count": 6,
   "metadata": {
    "collapsed": true,
    "pycharm": {
     "is_executing": false,
     "name": "#%%\n"
    }
   },
   "outputs": [],
   "source": [
    "import os\n",
    "import pandas as pd"
   ]
  },
  {
   "cell_type": "code",
   "execution_count": 11,
   "outputs": [
    {
     "name": "stdout",
     "text": [
      "['fp1_projects_clean.csv', 'fp2_projects_clean.csv', 'fp3_projects_clean.csv', 'fp4_projects_clean.csv', 'fp5_projects_clean.csv', 'fp6_projects_clean.csv', 'fp7_projects_clean.csv', 'h2020_projects_clean.csv']\n"
     ],
     "output_type": "stream"
    }
   ],
   "source": [
    "directory = \"../output/\"\n",
    "\n",
    "# merge all files in directory\n",
    "files = os.listdir(directory)\n",
    "\n",
    "print(files)\n",
    "\n",
    "df_array = []\n",
    "\n",
    "for file in files:\n",
    "\n",
    "    df_file = pd.read_csv(directory + file, index_col=0)\n",
    "    df_array.append(df_file)"
   ],
   "metadata": {
    "collapsed": false,
    "pycharm": {
     "name": "#%%\n",
     "is_executing": false
    }
   }
  },
  {
   "cell_type": "code",
   "execution_count": 12,
   "outputs": [
    {
     "data": {
      "text/plain": "     id   startDate                                          objective  \\\n0  1452  1983-07-20  The project had two aims: to develop draft des...   \n1  1471  1983-08-01  The objectives of this project were to design ...   \n2  1538  1983-08-01  The objectives of this project were to develop...   \n3  1481  1983-09-01  The objectives of this project were to develop...   \n4  1449  1983-09-01  The objective of the project was to produce a ...   \n\n                                          data_clean  \n0  ['project', 'aim', 'draft', 'design', 'rule', ...  \n1  ['objective', 'project', 'lsi', 'vlsi', 'subsy...  \n2  ['objective', 'project', 'method', 'circuit', ...  \n3  ['objective', 'project', 'image', 'analysis', ...  \n4  ['objective', 'project', 'comprehensive', 'rep...  ",
      "text/html": "<div>\n<style scoped>\n    .dataframe tbody tr th:only-of-type {\n        vertical-align: middle;\n    }\n\n    .dataframe tbody tr th {\n        vertical-align: top;\n    }\n\n    .dataframe thead th {\n        text-align: right;\n    }\n</style>\n<table border=\"1\" class=\"dataframe\">\n  <thead>\n    <tr style=\"text-align: right;\">\n      <th></th>\n      <th>id</th>\n      <th>startDate</th>\n      <th>objective</th>\n      <th>data_clean</th>\n    </tr>\n  </thead>\n  <tbody>\n    <tr>\n      <td>0</td>\n      <td>1452</td>\n      <td>1983-07-20</td>\n      <td>The project had two aims: to develop draft des...</td>\n      <td>['project', 'aim', 'draft', 'design', 'rule', ...</td>\n    </tr>\n    <tr>\n      <td>1</td>\n      <td>1471</td>\n      <td>1983-08-01</td>\n      <td>The objectives of this project were to design ...</td>\n      <td>['objective', 'project', 'lsi', 'vlsi', 'subsy...</td>\n    </tr>\n    <tr>\n      <td>2</td>\n      <td>1538</td>\n      <td>1983-08-01</td>\n      <td>The objectives of this project were to develop...</td>\n      <td>['objective', 'project', 'method', 'circuit', ...</td>\n    </tr>\n    <tr>\n      <td>3</td>\n      <td>1481</td>\n      <td>1983-09-01</td>\n      <td>The objectives of this project were to develop...</td>\n      <td>['objective', 'project', 'image', 'analysis', ...</td>\n    </tr>\n    <tr>\n      <td>4</td>\n      <td>1449</td>\n      <td>1983-09-01</td>\n      <td>The objective of the project was to produce a ...</td>\n      <td>['objective', 'project', 'comprehensive', 'rep...</td>\n    </tr>\n  </tbody>\n</table>\n</div>"
     },
     "metadata": {},
     "output_type": "execute_result",
     "execution_count": 12
    }
   ],
   "source": [
    "df_array[0].head()\n"
   ],
   "metadata": {
    "collapsed": false,
    "pycharm": {
     "name": "#%%\n",
     "is_executing": false
    }
   }
  },
  {
   "cell_type": "code",
   "execution_count": 19,
   "outputs": [
    {
     "data": {
      "text/plain": "id            False\nstartDate     False\nobjective     False\ndata_clean    False\ndtype: bool"
     },
     "metadata": {},
     "output_type": "execute_result",
     "execution_count": 19
    }
   ],
   "source": [
    "df_array[1].isna().any()"
   ],
   "metadata": {
    "collapsed": false,
    "pycharm": {
     "name": "#%%\n",
     "is_executing": false
    }
   }
  },
  {
   "cell_type": "code",
   "execution_count": 21,
   "outputs": [
    {
     "name": "stdout",
     "text": [
      "(93778, 4)\n"
     ],
     "output_type": "stream"
    }
   ],
   "source": [
    "df = None\n",
    "\n",
    "if df_array:\n",
    "\n",
    "    df = df_array[0]\n",
    "    for i in range(len(df_array) - 1):\n",
    "        df = df.append(df_array[i + 1], ignore_index=True)\n",
    "\n",
    "print(df.shape)"
   ],
   "metadata": {
    "collapsed": false,
    "pycharm": {
     "name": "#%%\n",
     "is_executing": false
    }
   }
  },
  {
   "cell_type": "code",
   "execution_count": 22,
   "outputs": [
    {
     "data": {
      "text/plain": "id            False\nstartDate     False\nobjective     False\ndata_clean    False\ndtype: bool"
     },
     "metadata": {},
     "output_type": "execute_result",
     "execution_count": 22
    }
   ],
   "source": [
    "df.isna().any()\n"
   ],
   "metadata": {
    "collapsed": false,
    "pycharm": {
     "name": "#%%\n",
     "is_executing": false
    }
   }
  }
 ],
 "metadata": {
  "kernelspec": {
   "display_name": "Python 3",
   "language": "python",
   "name": "python3"
  },
  "language_info": {
   "codemirror_mode": {
    "name": "ipython",
    "version": 2
   },
   "file_extension": ".py",
   "mimetype": "text/x-python",
   "name": "python",
   "nbconvert_exporter": "python",
   "pygments_lexer": "ipython2",
   "version": "2.7.6"
  },
  "pycharm": {
   "stem_cell": {
    "cell_type": "raw",
    "source": [],
    "metadata": {
     "collapsed": false
    }
   }
  }
 },
 "nbformat": 4,
 "nbformat_minor": 0
}